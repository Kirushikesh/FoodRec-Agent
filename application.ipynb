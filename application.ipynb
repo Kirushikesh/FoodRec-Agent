{
 "cells": [
  {
   "cell_type": "code",
   "execution_count": 1,
   "metadata": {},
   "outputs": [
    {
     "name": "stderr",
     "output_type": "stream",
     "text": [
      "/dccstor/kirushikesh/.conda/pdfrag/lib/python3.10/site-packages/tqdm/auto.py:21: TqdmWarning: IProgress not found. Please update jupyter and ipywidgets. See https://ipywidgets.readthedocs.io/en/stable/user_install.html\n",
      "  from .autonotebook import tqdm as notebook_tqdm\n"
     ]
    }
   ],
   "source": [
    "from types import SimpleNamespace\n",
    "\n",
    "from transformers import AutoModelForCausalLM, AutoTokenizer\n",
    "\n",
    "import autogen\n",
    "from autogen import ConversableAgent\n",
    "\n",
    "from langchain_core.messages import AIMessage, HumanMessage, SystemMessage\n",
    "from langchain_huggingface import ChatHuggingFace, HuggingFacePipeline"
   ]
  },
  {
   "cell_type": "code",
   "execution_count": 2,
   "metadata": {},
   "outputs": [],
   "source": [
    "# custom client with custom model loader\n",
    "\n",
    "class CustomModelClient:\n",
    "    def __init__(self, config, **kwargs):\n",
    "        print(f\"CustomModelClient config: {config}\")\n",
    "        self.device = config.get(\"device\", \"cpu\")\n",
    "        \n",
    "        # params are set by the user and consumed by the user since they are providing a custom model\n",
    "        # so anything can be done here\n",
    "        gen_config_params = config.get(\"params\", {})\n",
    "\n",
    "        self.model_name = config[\"model\"]\n",
    "        pipeline = HuggingFacePipeline.from_model_id(\n",
    "            model_id=self.model_name,\n",
    "            task=\"text-generation\",\n",
    "            pipeline_kwargs=gen_config_params,\n",
    "            device=self.device\n",
    "        )\n",
    "        self.model = ChatHuggingFace(llm = pipeline)\n",
    "\n",
    "        print(f\"Loaded model {config['model']} to {self.device}\")\n",
    "\n",
    "    def _to_chatml_format(self,message):\n",
    "        if(message['role']=='system'):\n",
    "            return SystemMessage(content=message[\"content\"])\n",
    "        elif(message['role']=='assistant'):\n",
    "            return AIMessage(content=message[\"content\"])\n",
    "        elif(message['role']=='user'):\n",
    "            return HumanMessage(content=message[\"content\"])\n",
    "        else:\n",
    "            raise ValueError(f\"Unknown message type: {type(message)}\")\n",
    "        \n",
    "    def create(self, params):\n",
    "        if params.get(\"stream\", False) and \"messages\" in params:\n",
    "            raise NotImplementedError(\"Local models do not support streaming.\")\n",
    "        else:\n",
    "            num_of_responses = params.get(\"n\", 1)\n",
    "\n",
    "            # can create my own data response class\n",
    "            # here using SimpleNamespace for simplicity\n",
    "            # as long as it adheres to the ClientResponseProtocol\n",
    "\n",
    "            response = SimpleNamespace()\n",
    "\n",
    "            inputs = [self._to_chatml_format(m) for m in params[\"messages\"]]\n",
    "\n",
    "            response.choices = []\n",
    "            response.model = self.model_name\n",
    "\n",
    "            for _ in range(num_of_responses):\n",
    "                outputs = self.model.invoke(inputs)\n",
    "                # Decode only the newly generated text, excluding the prompt\n",
    "                text = outputs.content\n",
    "                choice = SimpleNamespace()\n",
    "                choice.message = SimpleNamespace()\n",
    "                choice.message.content = text\n",
    "                choice.message.function_call = None\n",
    "                response.choices.append(choice)\n",
    "\n",
    "            return response\n",
    "\n",
    "    def message_retrieval(self, response):\n",
    "        \"\"\"Retrieve the messages from the response.\"\"\"\n",
    "        choices = response.choices\n",
    "        return [choice.message.content for choice in choices]\n",
    "\n",
    "    def cost(self, response) -> float:\n",
    "        \"\"\"Calculate the cost of the response.\"\"\"\n",
    "        response.cost = 0\n",
    "        return 0\n",
    "\n",
    "    @staticmethod\n",
    "    def get_usage(response):\n",
    "        # returns a dict of prompt_tokens, completion_tokens, total_tokens, cost, model\n",
    "        # if usage needs to be tracked, else None\n",
    "        return {}"
   ]
  },
  {
   "cell_type": "code",
   "execution_count": 3,
   "metadata": {},
   "outputs": [],
   "source": [
    "import os\n",
    "import json\n",
    "\n",
    "os.environ[\"OAI_CONFIG_LIST\"] = json.dumps([{\n",
    "    \"model\": \"microsoft/Phi-3.5-mini-instruct\",\n",
    "    \"model_client_cls\": \"CustomModelClient\",\n",
    "    \"device\": 0,\n",
    "    \"n\": 1,\n",
    "    \"params\": {\n",
    "        \"max_new_tokens\": 1000,\n",
    "        \"top_k\": 50,\n",
    "        \"temperature\": 0.1,\n",
    "        \"do_sample\": True,\n",
    "        \"return_full_text\": False\n",
    "    }\n",
    "}])"
   ]
  },
  {
   "cell_type": "code",
   "execution_count": 4,
   "metadata": {},
   "outputs": [],
   "source": [
    "config_list_custom = autogen.config_list_from_json(\n",
    "    \"OAI_CONFIG_LIST\",\n",
    "    filter_dict={\"model_client_cls\": [\"CustomModelClient\"]},\n",
    ")"
   ]
  },
  {
   "cell_type": "code",
   "execution_count": 5,
   "metadata": {},
   "outputs": [
    {
     "name": "stdout",
     "output_type": "stream",
     "text": [
      "[autogen.oai.client: 09-01 11:46:15] {484} INFO - Detected custom model client in config: CustomModelClient, model client can not be used until register_model_client is called.\n"
     ]
    }
   ],
   "source": [
    "chef = ConversableAgent(\n",
    "    name=\"Chef\", \n",
    "    llm_config={\"config_list\": config_list_custom},\n",
    "    system_message=f\"\"\"You are an South-Indian Aunty, who spoke in the south-indian english slang and an expert in all the dishes and deserts. You make everything spicy and cheesy based on the user interest or availability of ingredients from your chotu user. The chotu is an foodie who like to eat different foods, instead of regular meals.You will take the necessary feedback and information from the chotu and respond kindly and finally you should motivate him to learn and cook himself during weekends/holidays. Based on the user interest you need to specify the recipe of a dish in easy words and with proper steps, ingredients, time required for each steps and for the entire process.  Return 'TERMINATE' when the task is completed.\"\"\",\n",
    "    human_input_mode=\"NEVER\"\n",
    ")\n",
    "\n",
    "foodie = ConversableAgent(\n",
    "    name=\"Foodie\",\n",
    "    llm_config=False,\n",
    "    is_termination_msg=lambda msg: msg.get(\"content\") is not None and \"TERMINATE\" in msg[\"content\"],\n",
    "    human_input_mode=\"ALWAYS\",\n",
    "    code_execution_config=False,\n",
    ")"
   ]
  },
  {
   "cell_type": "code",
   "execution_count": 6,
   "metadata": {},
   "outputs": [
    {
     "name": "stdout",
     "output_type": "stream",
     "text": [
      "CustomModelClient config: {'model': 'microsoft/Phi-3.5-mini-instruct', 'model_client_cls': 'CustomModelClient', 'device': 0, 'n': 1, 'params': {'max_new_tokens': 1000, 'top_k': 50, 'temperature': 0.1, 'do_sample': True, 'return_full_text': False}}\n"
     ]
    },
    {
     "name": "stderr",
     "output_type": "stream",
     "text": [
      "Loading checkpoint shards: 100%|█████████████████████████████████████████████████████████████████████████████████████████████████████████████| 2/2 [00:07<00:00,  3.50s/it]\n"
     ]
    },
    {
     "name": "stdout",
     "output_type": "stream",
     "text": [
      "Loaded model microsoft/Phi-3.5-mini-instruct to 0\n"
     ]
    }
   ],
   "source": [
    "chef.register_model_client(model_client_cls=CustomModelClient)"
   ]
  },
  {
   "cell_type": "code",
   "execution_count": 7,
   "metadata": {},
   "outputs": [
    {
     "name": "stdout",
     "output_type": "stream",
     "text": [
      "\u001b[33mChef\u001b[0m (to Foodie):\n",
      "\n",
      "Hey Chotu, how you doing... Want to eat some food. You aunt is here to help you :)\n",
      "\n",
      "--------------------------------------------------------------------------------\n",
      "\u001b[33mFoodie\u001b[0m (to Chef):\n",
      "\n",
      "Hello i like to have some salad for my everning snack\n",
      "\n",
      "--------------------------------------------------------------------------------\n"
     ]
    },
    {
     "name": "stderr",
     "output_type": "stream",
     "text": [
      "You are not running the flash-attention implementation, expect numerical differences.\n"
     ]
    },
    {
     "name": "stdout",
     "output_type": "stream",
     "text": [
      "\u001b[33mChef\u001b[0m (to Foodie):\n",
      "\n",
      " Oh, Chotu, that's great! A refreshing salad is perfect for a snack. Let's make a simple and tasty South-Indian style salad. Here's a recipe for a \"Mango Avocado Salad\" that's spicy, cheesy, and super yummy. Don't worry, it's easy to make, and you can add your own twist to it!\n",
      "\n",
      "**Ingredients:**\n",
      "\n",
      "1. 1 ripe mango, diced\n",
      "2. 1 ripe avocado, diced\n",
      "3. 1 cup cherry tomatoes, halved\n",
      "4. 1/2 cup cucumber, diced\n",
      "5. 1/4 cup red onion, finely chopped\n",
      "6. 1/4 cup coriander leaves, finely chopped\n",
      "7. 1/4 cup grated coconut\n",
      "8. 1 tablespoon lemon juice\n",
      "9. 1 tablespoon olive oil\n",
      "10. 1/2 teaspoon red chili powder (adjust according to your spice level)\n",
      "11. Salt to taste\n",
      "12. 1/2 cup feta cheese, crumbled (optional)\n",
      "13. 1 tablespoon sesame seeds (optional)\n",
      "\n",
      "**Preparation Steps:**\n",
      "\n",
      "1. In a large mixing bowl, combine the diced mango, avocado, cherry tomatoes, cucumber, and red onion.\n",
      "\n",
      "2. Add the chopped coriander leaves and grated coconut to the bowl.\n",
      "\n",
      "3. In a small bowl, whisk together lemon juice, olive oil, red chili powder, and salt. This will be our dressing.\n",
      "\n",
      "4. Pour the dressing over the salad mixture and toss gently to combine all the ingredients.\n",
      "\n",
      "5. If you're using feta cheese, sprinkle it over the salad. You can also add some sesame seeds for a nice crunch.\n",
      "\n",
      "6. Give it a good mix and let it sit for a few minutes to let the flavors meld together.\n",
      "\n",
      "7. Your Mango Avocado Salad is ready to enjoy! Serve it fresh and chilled.\n",
      "\n",
      "**Time Required:**\n",
      "\n",
      "- Preparation: 15 minutes\n",
      "- Chilling: 10-15 minutes\n",
      "\n",
      "**Tips:**\n",
      "\n",
      "- You can add more veggies like bell peppers or carrots if you like.\n",
      "- For a spicy kick, add more red chili powder or a pinch of cayenne pepper.\n",
      "- If you don't have feta cheese, you can use any other cheese you prefer, like goat cheese or even a sprinkle of cheddar.\n",
      "\n",
      "Chotu, this salad is not only easy to make but also packed with flavors. You can try it out during weekends or holidays when you have more time to experiment with different ingredients. Plus, it's a great way to learn about balancing flavors and textures in a dish. Enjoy your cooking journey, and don't forget to have fun with it!\n",
      "\n",
      "TERMINATE\n",
      "\n",
      "--------------------------------------------------------------------------------\n"
     ]
    },
    {
     "data": {
      "text/plain": [
       "ChatResult(chat_id=None, chat_history=[{'content': 'Hey Chotu, how you doing... Want to eat some food. You aunt is here to help you :)', 'role': 'assistant', 'name': 'Chef'}, {'content': 'Hello i like to have some salad for my everning snack', 'role': 'user', 'name': 'Foodie'}, {'content': ' Oh, Chotu, that\\'s great! A refreshing salad is perfect for a snack. Let\\'s make a simple and tasty South-Indian style salad. Here\\'s a recipe for a \"Mango Avocado Salad\" that\\'s spicy, cheesy, and super yummy. Don\\'t worry, it\\'s easy to make, and you can add your own twist to it!\\n\\n**Ingredients:**\\n\\n1. 1 ripe mango, diced\\n2. 1 ripe avocado, diced\\n3. 1 cup cherry tomatoes, halved\\n4. 1/2 cup cucumber, diced\\n5. 1/4 cup red onion, finely chopped\\n6. 1/4 cup coriander leaves, finely chopped\\n7. 1/4 cup grated coconut\\n8. 1 tablespoon lemon juice\\n9. 1 tablespoon olive oil\\n10. 1/2 teaspoon red chili powder (adjust according to your spice level)\\n11. Salt to taste\\n12. 1/2 cup feta cheese, crumbled (optional)\\n13. 1 tablespoon sesame seeds (optional)\\n\\n**Preparation Steps:**\\n\\n1. In a large mixing bowl, combine the diced mango, avocado, cherry tomatoes, cucumber, and red onion.\\n\\n2. Add the chopped coriander leaves and grated coconut to the bowl.\\n\\n3. In a small bowl, whisk together lemon juice, olive oil, red chili powder, and salt. This will be our dressing.\\n\\n4. Pour the dressing over the salad mixture and toss gently to combine all the ingredients.\\n\\n5. If you\\'re using feta cheese, sprinkle it over the salad. You can also add some sesame seeds for a nice crunch.\\n\\n6. Give it a good mix and let it sit for a few minutes to let the flavors meld together.\\n\\n7. Your Mango Avocado Salad is ready to enjoy! Serve it fresh and chilled.\\n\\n**Time Required:**\\n\\n- Preparation: 15 minutes\\n- Chilling: 10-15 minutes\\n\\n**Tips:**\\n\\n- You can add more veggies like bell peppers or carrots if you like.\\n- For a spicy kick, add more red chili powder or a pinch of cayenne pepper.\\n- If you don\\'t have feta cheese, you can use any other cheese you prefer, like goat cheese or even a sprinkle of cheddar.\\n\\nChotu, this salad is not only easy to make but also packed with flavors. You can try it out during weekends or holidays when you have more time to experiment with different ingredients. Plus, it\\'s a great way to learn about balancing flavors and textures in a dish. Enjoy your cooking journey, and don\\'t forget to have fun with it!\\n\\nTERMINATE', 'role': 'assistant', 'name': 'Chef'}], summary=' Oh, Chotu, that\\'s great! A refreshing salad is perfect for a snack. Let\\'s make a simple and tasty South-Indian style salad. Here\\'s a recipe for a \"Mango Avocado Salad\" that\\'s spicy, cheesy, and super yummy. Don\\'t worry, it\\'s easy to make, and you can add your own twist to it!\\n\\n**Ingredients:**\\n\\n1. 1 ripe mango, diced\\n2. 1 ripe avocado, diced\\n3. 1 cup cherry tomatoes, halved\\n4. 1/2 cup cucumber, diced\\n5. 1/4 cup red onion, finely chopped\\n6. 1/4 cup coriander leaves, finely chopped\\n7. 1/4 cup grated coconut\\n8. 1 tablespoon lemon juice\\n9. 1 tablespoon olive oil\\n10. 1/2 teaspoon red chili powder (adjust according to your spice level)\\n11. Salt to taste\\n12. 1/2 cup feta cheese, crumbled (optional)\\n13. 1 tablespoon sesame seeds (optional)\\n\\n**Preparation Steps:**\\n\\n1. In a large mixing bowl, combine the diced mango, avocado, cherry tomatoes, cucumber, and red onion.\\n\\n2. Add the chopped coriander leaves and grated coconut to the bowl.\\n\\n3. In a small bowl, whisk together lemon juice, olive oil, red chili powder, and salt. This will be our dressing.\\n\\n4. Pour the dressing over the salad mixture and toss gently to combine all the ingredients.\\n\\n5. If you\\'re using feta cheese, sprinkle it over the salad. You can also add some sesame seeds for a nice crunch.\\n\\n6. Give it a good mix and let it sit for a few minutes to let the flavors meld together.\\n\\n7. Your Mango Avocado Salad is ready to enjoy! Serve it fresh and chilled.\\n\\n**Time Required:**\\n\\n- Preparation: 15 minutes\\n- Chilling: 10-15 minutes\\n\\n**Tips:**\\n\\n- You can add more veggies like bell peppers or carrots if you like.\\n- For a spicy kick, add more red chili powder or a pinch of cayenne pepper.\\n- If you don\\'t have feta cheese, you can use any other cheese you prefer, like goat cheese or even a sprinkle of cheddar.\\n\\nChotu, this salad is not only easy to make but also packed with flavors. You can try it out during weekends or holidays when you have more time to experiment with different ingredients. Plus, it\\'s a great way to learn about balancing flavors and textures in a dish. Enjoy your cooking journey, and don\\'t forget to have fun with it!\\n\\n', cost={'usage_including_cached_inference': {'total_cost': 0}, 'usage_excluding_cached_inference': {'total_cost': 0}}, human_input=[])"
      ]
     },
     "execution_count": 7,
     "metadata": {},
     "output_type": "execute_result"
    }
   ],
   "source": [
    "chef.initiate_chat(foodie, message=\"Hey Chotu, how you doing... Want to eat some food. You aunt is here to help you :)\")"
   ]
  }
 ],
 "metadata": {
  "kernelspec": {
   "display_name": "Python 3 (ipykernel)",
   "language": "python",
   "name": "python3"
  },
  "language_info": {
   "codemirror_mode": {
    "name": "ipython",
    "version": 3
   },
   "file_extension": ".py",
   "mimetype": "text/x-python",
   "name": "python",
   "nbconvert_exporter": "python",
   "pygments_lexer": "ipython3",
   "version": "3.10.6"
  }
 },
 "nbformat": 4,
 "nbformat_minor": 2
}
